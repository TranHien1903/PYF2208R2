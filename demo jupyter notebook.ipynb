{
 "cells": [
  {
   "cell_type": "code",
   "execution_count": 3,
   "id": "a8fb4532",
   "metadata": {},
   "outputs": [
    {
     "name": "stdout",
     "output_type": "stream",
     "text": [
      "hello world!!!\n"
     ]
    }
   ],
   "source": [
    "print('hello world!!!')"
   ]
  },
  {
   "cell_type": "markdown",
   "id": "f6c466bc",
   "metadata": {},
   "source": [
    "note day noi dung de thu bam M (markdown)"
   ]
  },
  {
   "cell_type": "code",
   "execution_count": 4,
   "id": "d5b79c0c",
   "metadata": {
    "scrolled": true
   },
   "outputs": [
    {
     "name": "stdout",
     "output_type": "stream",
     "text": [
      "PYF2208R2\n"
     ]
    }
   ],
   "source": [
    "print('PYF2208R2')"
   ]
  },
  {
   "cell_type": "code",
   "execution_count": 5,
   "id": "622f1cd6",
   "metadata": {},
   "outputs": [
    {
     "name": "stdout",
     "output_type": "stream",
     "text": [
      "hello world!\n"
     ]
    }
   ],
   "source": [
    "print('hello world!')"
   ]
  },
  {
   "cell_type": "code",
   "execution_count": 6,
   "id": "3037ae16",
   "metadata": {},
   "outputs": [
    {
     "name": "stdout",
     "output_type": "stream",
     "text": [
      "My name is Hien\n"
     ]
    }
   ],
   "source": [
    "print('My name is Hien')"
   ]
  },
  {
   "cell_type": "code",
   "execution_count": 9,
   "id": "8ea526f5",
   "metadata": {},
   "outputs": [
    {
     "name": "stdout",
     "output_type": "stream",
     "text": [
      "hello world!\n",
      "my name is Hien\n",
      "Im studying python Fundamental\n"
     ]
    }
   ],
   "source": [
    "print('hello world!') \n",
    "print('my name is Hien')\n",
    "print('Im studying python Fundamental')"
   ]
  },
  {
   "cell_type": "code",
   "execution_count": null,
   "id": "8016c3a0",
   "metadata": {},
   "outputs": [],
   "source": []
  }
 ],
 "metadata": {
  "kernelspec": {
   "display_name": "Python 3 (ipykernel)",
   "language": "python",
   "name": "python3"
  },
  "language_info": {
   "codemirror_mode": {
    "name": "ipython",
    "version": 3
   },
   "file_extension": ".py",
   "mimetype": "text/x-python",
   "name": "python",
   "nbconvert_exporter": "python",
   "pygments_lexer": "ipython3",
   "version": "3.10.6"
  }
 },
 "nbformat": 4,
 "nbformat_minor": 5
}
